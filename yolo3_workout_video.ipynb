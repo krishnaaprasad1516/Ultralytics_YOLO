{
  "nbformat": 4,
  "nbformat_minor": 0,
  "metadata": {
    "colab": {
      "provenance": []
    },
    "kernelspec": {
      "name": "python3",
      "display_name": "Python 3"
    },
    "language_info": {
      "name": "python"
    }
  },
  "cells": [
    {
      "cell_type": "code",
      "execution_count": 1,
      "metadata": {
        "colab": {
          "base_uri": "https://localhost:8080/"
        },
        "id": "IDFYsrR7KJ0a",
        "outputId": "0d723d10-9698-4122-bd86-c49090bf0a80"
      },
      "outputs": [
        {
          "output_type": "stream",
          "name": "stdout",
          "text": [
            "Ultralytics 8.3.155 🚀 Python-3.11.13 torch-2.6.0+cu124 CPU (Intel Xeon 2.20GHz)\n",
            "Setup complete ✅ (2 CPUs, 12.7 GB RAM, 41.5/107.7 GB disk)\n"
          ]
        }
      ],
      "source": [
        "!pip install ultralytics\n",
        "\n",
        "import cv2\n",
        "import ultralytics\n",
        "from ultralytics import solutions\n",
        "from ultralytics.utils.downloads import safe_download\n",
        "\n",
        "!apt-get install -y ffmpeg  # for video writing properly\n",
        "ultralytics.checks()"
      ]
    },
    {
      "cell_type": "code",
      "source": [
        "  exercises_list = [\"Legextension\", \"Legpress\", \"Squats\", \"Pushups\"]\n",
        "\n",
        "for exercise in exercises_list:\n",
        "    safe_download(f\"https://github.com/ultralytics/assets/releases/download/v0.0.0/{exercise}.demo.video.mp4\")"
      ],
      "metadata": {
        "colab": {
          "base_uri": "https://localhost:8080/"
        },
        "id": "F0SBD1EdK9HS",
        "outputId": "567ad86b-8dff-4db0-b685-5e8c216318d9"
      },
      "execution_count": 2,
      "outputs": [
        {
          "output_type": "stream",
          "name": "stdout",
          "text": [
            "Downloading https://ultralytics.com/assets/Legextension.demo.video.mp4 to 'Legextension.demo.video.mp4'...\n"
          ]
        },
        {
          "output_type": "stream",
          "name": "stderr",
          "text": [
            "100%|██████████| 5.89M/5.89M [00:00<00:00, 268MB/s]"
          ]
        },
        {
          "output_type": "stream",
          "name": "stdout",
          "text": [
            "Downloading https://ultralytics.com/assets/Legpress.demo.video.mp4 to 'Legpress.demo.video.mp4'...\n"
          ]
        },
        {
          "output_type": "stream",
          "name": "stderr",
          "text": [
            "\n",
            "100%|██████████| 7.90M/7.90M [00:00<00:00, 331MB/s]"
          ]
        },
        {
          "output_type": "stream",
          "name": "stdout",
          "text": [
            "Downloading https://ultralytics.com/assets/Squats.demo.video.mp4 to 'Squats.demo.video.mp4'...\n"
          ]
        },
        {
          "output_type": "stream",
          "name": "stderr",
          "text": [
            "\n",
            "100%|██████████| 3.36M/3.36M [00:00<00:00, 238MB/s]"
          ]
        },
        {
          "output_type": "stream",
          "name": "stdout",
          "text": [
            "Downloading https://ultralytics.com/assets/Pushups.demo.video.mp4 to 'Pushups.demo.video.mp4'...\n"
          ]
        },
        {
          "output_type": "stream",
          "name": "stderr",
          "text": [
            "\n",
            "100%|██████████| 3.98M/3.98M [00:00<00:00, 255MB/s]\n"
          ]
        }
      ]
    },
    {
      "cell_type": "code",
      "source": [
        "cap = cv2.VideoCapture(\"/content/Pushups.demo.video.mp4\")\n",
        "assert cap.isOpened(), \"Error reading video file\"\n",
        "\n",
        "# Video writer\n",
        "w, h, fps = (int(cap.get(x)) for x in (cv2.CAP_PROP_FRAME_WIDTH, cv2.CAP_PROP_FRAME_HEIGHT, cv2.CAP_PROP_FPS))\n",
        "video_writer = cv2.VideoWriter(\"Pushups.demo.video.output.avi\", cv2.VideoWriter_fourcc(*\"mp4v\"), fps, (w, h))\n",
        "\n",
        "# Init AIGym\n",
        "gym = solutions.AIGym(\n",
        "    show=True,  # Display the frame\n",
        "    kpts=[5, 7, 9],  # keypoints index of person for monitoring specific exercise, by default it's for pushup\n",
        "    model=\"yolo11n-pose.pt\",  # Path to the YOLO11 pose estimation model file\n",
        "    line_width=4,  # Adjust the line width for bounding boxes and text display\n",
        "    verbose=False,\n",
        ")\n",
        "\n",
        "# Process video\n",
        "while cap.isOpened():\n",
        "    success, im0 = cap.read()\n",
        "    if not success:\n",
        "        print(\"Video frame is empty or video processing has been successfully completed.\")\n",
        "        break\n",
        "    results = gym(im0)  # monitor workouts on each frame\n",
        "    video_writer.write(results.plot_im)  # write the output frame in file.\n",
        "\n",
        "video_writer.release()"
      ],
      "metadata": {
        "colab": {
          "base_uri": "https://localhost:8080/"
        },
        "id": "1-2i6k0xLiY2",
        "outputId": "bb79fb29-c123-4e68-9ca5-1708e767ced1"
      },
      "execution_count": 6,
      "outputs": [
        {
          "output_type": "stream",
          "name": "stdout",
          "text": [
            "Ultralytics Solutions: ✅ {'source': None, 'model': 'yolo11n-pose.pt', 'classes': None, 'show_conf': True, 'show_labels': True, 'region': None, 'colormap': 21, 'show_in': True, 'show_out': True, 'up_angle': 145.0, 'down_angle': 90, 'kpts': [5, 7, 9], 'analytics_type': 'line', 'figsize': (12.8, 7.2), 'blur_ratio': 0.5, 'vision_point': (20, 20), 'crop_dir': 'cropped-detections', 'json_file': None, 'line_width': 4, 'records': 5, 'fps': 30.0, 'max_hist': 5, 'meter_per_pixel': 0.05, 'max_speed': 120, 'show': True, 'iou': 0.7, 'conf': 0.25, 'device': None, 'max_det': 300, 'half': False, 'tracker': 'botsort.yaml', 'verbose': False, 'data': 'images'}\n",
            "Video frame is empty or video processing has been successfully completed.\n"
          ]
        }
      ]
    },
    {
      "cell_type": "code",
      "source": [
        "cap = cv2.VideoCapture(\"/content/Squats.demo.video.mp4\")\n",
        "assert cap.isOpened(), \"Error reading video file\"\n",
        "\n",
        "# Video writer\n",
        "w, h, fps = (int(cap.get(x)) for x in (cv2.CAP_PROP_FRAME_WIDTH, cv2.CAP_PROP_FRAME_HEIGHT, cv2.CAP_PROP_FPS))\n",
        "video_writer = cv2.VideoWriter(\"Squats.demo.video.output.avi\", cv2.VideoWriter_fourcc(*\"mp4v\"), fps, (w, h))\n",
        "\n",
        "# Init AIGym\n",
        "gym = solutions.AIGym(\n",
        "    show=True,  # Display the frame\n",
        "    kpts=[5, 11, 13],  # keypoints index of person for monitoring specific exercise, by default it's for pushup\n",
        "    model=\"yolo11m-pose.pt\",  # Path to the YOLO11 pose estimation model file\n",
        "    line_width=4,  # Adjust the line width for bounding boxes and text display\n",
        "    verbose=False,\n",
        ")\n",
        "\n",
        "# Process video\n",
        "while cap.isOpened():\n",
        "    success, im0 = cap.read()\n",
        "    if not success:\n",
        "        print(\"Video frame is empty or video processing has been successfully completed.\")\n",
        "        break\n",
        "    results = gym(im0)  # monitor workouts on each frame\n",
        "    video_writer.write(results.plot_im)  # write the output frame in file.\n",
        "\n",
        "video_writer.release()"
      ],
      "metadata": {
        "colab": {
          "base_uri": "https://localhost:8080/"
        },
        "id": "myfVjoR7Lu8W",
        "outputId": "f8ac62e5-c42f-4d01-c978-ffa5871a9f1e"
      },
      "execution_count": 7,
      "outputs": [
        {
          "output_type": "stream",
          "name": "stdout",
          "text": [
            "Ultralytics Solutions: ✅ {'source': None, 'model': 'yolo11m-pose.pt', 'classes': None, 'show_conf': True, 'show_labels': True, 'region': None, 'colormap': 21, 'show_in': True, 'show_out': True, 'up_angle': 145.0, 'down_angle': 90, 'kpts': [5, 11, 13], 'analytics_type': 'line', 'figsize': (12.8, 7.2), 'blur_ratio': 0.5, 'vision_point': (20, 20), 'crop_dir': 'cropped-detections', 'json_file': None, 'line_width': 4, 'records': 5, 'fps': 30.0, 'max_hist': 5, 'meter_per_pixel': 0.05, 'max_speed': 120, 'show': True, 'iou': 0.7, 'conf': 0.25, 'device': None, 'max_det': 300, 'half': False, 'tracker': 'botsort.yaml', 'verbose': False, 'data': 'images'}\n",
            "Downloading https://github.com/ultralytics/assets/releases/download/v8.3.0/yolo11m-pose.pt to 'yolo11m-pose.pt'...\n"
          ]
        },
        {
          "output_type": "stream",
          "name": "stderr",
          "text": [
            "100%|██████████| 40.5M/40.5M [00:00<00:00, 175MB/s]\n"
          ]
        },
        {
          "output_type": "stream",
          "name": "stdout",
          "text": [
            "Video frame is empty or video processing has been successfully completed.\n"
          ]
        }
      ]
    },
    {
      "cell_type": "code",
      "source": [],
      "metadata": {
        "id": "7dkzkJprWaCw"
      },
      "execution_count": null,
      "outputs": []
    }
  ]
}